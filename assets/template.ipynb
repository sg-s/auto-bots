{
 "cells": [
  {
   "cell_type": "code",
   "execution_count": null,
   "id": "97d9ce73-f3d3-44c2-895c-0049401db377",
   "metadata": {},
   "outputs": [],
   "source": [
    "import numpy as np\n",
    "\n",
    "import matplotlib.pyplot as plt\n",
    "\n",
    "%load_ext autoreload\n",
    "%autoreload 2\n",
    "%matplotlib widget "
   ]
  }
 ],
 "metadata": {
  "authors": [
   {
    "name": "Srinivas Gorur-Shandilya"
   }
  ],
  "kernelspec": {
   "display_name": "",
   "name": ""
  },
  "language_info": {
   "name": ""
  }
 },
 "nbformat": 4,
 "nbformat_minor": 5
}
