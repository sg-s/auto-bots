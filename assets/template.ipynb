{
 "cells": [
  {
   "cell_type": "code",
   "execution_count": null,
   "id": "97d9ce73-f3d3-44c2-895c-0049401db377",
   "metadata": {},
   "outputs": [],
   "source": [

    "%load_ext autoreload\n",
    "%autoreload 2\n",

    "import numpy as np\n",
    "import pandas as pd\n",
    "from matplotlib.pyplot import *\n",
    "\n",
    "from pycore.matlab import * \n",
    "from pycore.graphics import *\n",
    "from scipy import stats\n",
    "import os\n",
    "\n",
    "rcParams['figure.dpi'] = 100\n",
    "rcParams['savefig.dpi'] = 100\n",
    "\n",
    "\n",
    "import matplotlib_inline.backend_inline\n",
    "matplotlib_inline.backend_inline.set_matplotlib_formats('svg')\n"
   ]
  }
 ],
 "metadata": {
  "authors": [
   {
    "name": "Srinivas Gorur-Shandilya"
   }
  ],
  "kernelspec": {
   "display_name": "Python 3 (ipykernel)",
   "language": "python",
   "name": "python3"
  },
  "language_info": {
   "codemirror_mode": {
    "name": "ipython",
    "version": 3
   },
   "file_extension": ".py",
   "mimetype": "text/x-python",
   "name": "python",
   "nbconvert_exporter": "python",
   "pygments_lexer": "ipython3",
   "version": "3.8.11"
  }
 },
 "nbformat": 4,
 "nbformat_minor": 5
}
